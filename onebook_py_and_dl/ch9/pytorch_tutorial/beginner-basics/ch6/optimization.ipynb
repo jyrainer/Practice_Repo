{
 "cells": [
  {
   "attachments": {},
   "cell_type": "markdown",
   "metadata": {},
   "source": [
    "# 모델 매개변수 최적화 하기\n",
    "- 모델과 데이터가 준비되었으니, 데이터에 매개변수를 최적화하여 모델을 학습 검증 테스트를 할 것이다.\n",
    "- 모델을 학습하는 과정은 반복적인 과정을 거치게 된다.\n",
    "    - 각 단계에서 모델은 출력을 예측하고, 추측과 정답 사이 오류(손실(loss))를 계산하고, 매개 변수에 대한 오류의 도함수(derivate)를 수집한 뒤, 경사하강법을 통해 이 파라미터들을 최적화(optimize)한다."
   ]
  },
  {
   "cell_type": "code",
   "execution_count": 2,
   "metadata": {},
   "outputs": [
    {
     "name": "stdout",
     "output_type": "stream",
     "text": [
      "Downloading http://fashion-mnist.s3-website.eu-central-1.amazonaws.com/train-images-idx3-ubyte.gz\n",
      "Downloading http://fashion-mnist.s3-website.eu-central-1.amazonaws.com/train-images-idx3-ubyte.gz to data\\FashionMNIST\\raw\\train-images-idx3-ubyte.gz\n"
     ]
    },
    {
     "name": "stderr",
     "output_type": "stream",
     "text": [
      "100%|██████████| 26421880/26421880 [01:20<00:00, 329771.29it/s]\n"
     ]
    },
    {
     "name": "stdout",
     "output_type": "stream",
     "text": [
      "Extracting data\\FashionMNIST\\raw\\train-images-idx3-ubyte.gz to data\\FashionMNIST\\raw\n",
      "\n",
      "Downloading http://fashion-mnist.s3-website.eu-central-1.amazonaws.com/train-labels-idx1-ubyte.gz\n",
      "Downloading http://fashion-mnist.s3-website.eu-central-1.amazonaws.com/train-labels-idx1-ubyte.gz to data\\FashionMNIST\\raw\\train-labels-idx1-ubyte.gz\n"
     ]
    },
    {
     "name": "stderr",
     "output_type": "stream",
     "text": [
      "100%|██████████| 29515/29515 [00:00<00:00, 83242.48it/s]\n"
     ]
    },
    {
     "name": "stdout",
     "output_type": "stream",
     "text": [
      "Extracting data\\FashionMNIST\\raw\\train-labels-idx1-ubyte.gz to data\\FashionMNIST\\raw\n",
      "\n",
      "Downloading http://fashion-mnist.s3-website.eu-central-1.amazonaws.com/t10k-images-idx3-ubyte.gz\n",
      "Downloading http://fashion-mnist.s3-website.eu-central-1.amazonaws.com/t10k-images-idx3-ubyte.gz to data\\FashionMNIST\\raw\\t10k-images-idx3-ubyte.gz\n"
     ]
    },
    {
     "name": "stderr",
     "output_type": "stream",
     "text": [
      "100%|██████████| 4422102/4422102 [00:25<00:00, 172286.17it/s]\n"
     ]
    },
    {
     "name": "stdout",
     "output_type": "stream",
     "text": [
      "Extracting data\\FashionMNIST\\raw\\t10k-images-idx3-ubyte.gz to data\\FashionMNIST\\raw\n",
      "\n",
      "Downloading http://fashion-mnist.s3-website.eu-central-1.amazonaws.com/t10k-labels-idx1-ubyte.gz\n",
      "Downloading http://fashion-mnist.s3-website.eu-central-1.amazonaws.com/t10k-labels-idx1-ubyte.gz to data\\FashionMNIST\\raw\\t10k-labels-idx1-ubyte.gz\n"
     ]
    },
    {
     "name": "stderr",
     "output_type": "stream",
     "text": [
      "100%|██████████| 5148/5148 [00:00<00:00, 369781.43it/s]"
     ]
    },
    {
     "name": "stdout",
     "output_type": "stream",
     "text": [
      "Extracting data\\FashionMNIST\\raw\\t10k-labels-idx1-ubyte.gz to data\\FashionMNIST\\raw\n",
      "\n"
     ]
    },
    {
     "name": "stderr",
     "output_type": "stream",
     "text": [
      "\n"
     ]
    }
   ],
   "source": [
    "# 기본 코드 (Pre-requisite code)\n",
    "import torch\n",
    "from torch import nn\n",
    "from torch.utils.data import DataLoader\n",
    "from torchvision import datasets\n",
    "from torchvision.transforms import ToTensor\n",
    "\n",
    "training_data = datasets.FashionMNIST(\n",
    "    root = \"data\",\n",
    "    train = True,\n",
    "    download = True,\n",
    "    transform = ToTensor()\n",
    ")\n",
    "\n",
    "test_data = datasets.FashionMNIST(\n",
    "    root = \"data\",\n",
    "    train = False,\n",
    "    download = True,\n",
    "    transform = ToTensor()\n",
    ")\n",
    "\n",
    "train_dataloader = DataLoader(\n",
    "    training_data,\n",
    "    batch_size = 64\n",
    ")\n",
    "test_dataloader = DataLoader(\n",
    "    test_data,\n",
    "    batch_size = 64\n",
    ")\n",
    "\n",
    "class NeuralNetwork(nn.Module):\n",
    "    def __init__(self):\n",
    "        super(NeuralNetwork, self).__init__()\n",
    "        self.flatten = nn.Flatten()\n",
    "        self.linear_relu_stack = nn.Sequential(\n",
    "            nn.Linear(28*28, 512),\n",
    "            nn.ReLU(),\n",
    "            nn.Linear(512, 512),\n",
    "            nn.ReLU(),\n",
    "            nn.Linear(512,10),\n",
    "        )\n",
    "    \n",
    "    def forward(self, x):\n",
    "        x = self.flatten(x)\n",
    "        logits = self.linear_relu_stack(x)\n",
    "        return logits\n",
    "    \n",
    "model = NeuralNetwork()"
   ]
  },
  {
   "attachments": {},
   "cell_type": "markdown",
   "metadata": {},
   "source": [
    "## 하이퍼파라미터 (Hyperparameter)\n",
    "- 하이퍼 파라미터는 모델 최적화 과정을 제어할 수 있는 조절 가능한 매개변수이다.\n",
    "- 서로 다른 하이퍼 파라미터 값은 모델 학습과 수렴율(convergence rate)에 영향을 미칠 수 있다.\n",
    "- 학습 시 다음과 같은 기본적은 하이퍼 파라미터를 정의한다.\n",
    "1. epoch 수 : 데이터셋을 반복하는 횟수\n",
    "2. batch size : 매개변수가 갱신되기 전 신경망을 통해 전파된 데이터 샘플의 수\n",
    "3. learning rate : 각 배치/에폭에서 모델의 매개변수를 조절하는 비율. 값이 작으면 학습 속도가 느리며, 값이 크면 학습 중 예측할 수 없는 동작을 범할 수 있다."
   ]
  },
  {
   "cell_type": "code",
   "execution_count": 4,
   "metadata": {},
   "outputs": [],
   "source": [
    "learning_rate = 1e-3\n",
    "batch_size = 64\n",
    "epochs = 5"
   ]
  },
  {
   "attachments": {},
   "cell_type": "markdown",
   "metadata": {},
   "source": [
    "## 최적화 단계\n",
    "- 하이퍼 파라미터를 설정한 뒤에는 최적화 단계를 통해 모델을 학습하고 최적화할 수 있다.\n",
    "- 최적화 단계의 각 반복을 `epoch`이라고 부른다.\n",
    "- 하나의 에폭은 다음 두 부분으로 구성된다.\n",
    "1. 학습 단계(train loop) : 학습용 데이터셋을 반복하고 최적의 매개변수로 수렴시킨다.\n",
    "2. 검증/테스트 단계(validation/tset loop) : 모델 성능이 개선되고 있는지를 확인하기 위해 테스트 데이터셋을 반복한다.\n",
    "- 학습 단계에서 일어나는 몇가지 개념들을 살펴보자."
   ]
  },
  {
   "attachments": {},
   "cell_type": "markdown",
   "metadata": {},
   "source": [
    "## 손실 함수(loss function)\n",
    "- 학습용 데이터를 제공하면, 학습되지 않은 신경망은 정답을 제공하지 않을 수 있다.\n",
    "- **손실 함수(loss function)**은 획득한 결과와 실제 값 사이의 틀린 정도를 측정하며, 학습 중에 이 값을 최소화하려고 한다.\n",
    "- 주어진 데이터 샘플을 입력으로 계산한 예측과 정답(label)을 비교하여 손실(loss)를 계산한다.\n",
    "- 일반적인 손실함수에는 회귀 문제(regression task)에 사용하는 `nn.MSELoss`(평균 제곱 오차)나, 분류(classification)에 사용하는 `nn.NLLLoss`(음의 로그 우도) 그리고 `nn.LogSoftmax`와 `nn.NLLLoss`를 합친 `nn.CrossEntropyLoss`등이 있다.\n",
    "- 모델의 출력 로짓(logit)을 `nn.CrossEntropyLoss`에 전달하여 로짓(logit)을 정규화하고 예측 오류를 계산하자."
   ]
  },
  {
   "cell_type": "code",
   "execution_count": 5,
   "metadata": {},
   "outputs": [],
   "source": [
    "# 손실 함수를 초기화 한다.\n",
    "loss_fn = nn.CrossEntropyLoss()"
   ]
  },
  {
   "attachments": {},
   "cell_type": "markdown",
   "metadata": {},
   "source": [
    "## 옵티마이저(Optimizer)\n",
    "- 최적화는 각 단계에서 모델의 오류를 줄이기 위해 모델 매개변수를 조정하는 과정이다.\n",
    "- **최적화 알고리즘**은 이 과정이 수행되는 방식(확률적 경사하강법, SGD)을 정의한다.\n",
    "- 모든 최적화 절차(logic)은 `optimizer`객체에 캡슐화(encapsulate)된다.\n",
    "- 여기서는 SGD 옵티마이저를 사용하고 있으며, Pythorch에는 ADAM이나 RMSProp같은 다른 모델과 데이터에서 더 잘 동작하는 다양한 옵티마이저가 존재한다.\n",
    "\n",
    "- 학습하려는 모델의 매개변수와 학습률 하이퍼파라미터를 등록하여 옵티마이저를 초기화하자."
   ]
  },
  {
   "cell_type": "code",
   "execution_count": 6,
   "metadata": {},
   "outputs": [],
   "source": [
    "optimizer = torch.optim.SGD(\n",
    "    model.parameters(),\n",
    "    lr = learning_rate\n",
    ")"
   ]
  },
  {
   "attachments": {},
   "cell_type": "markdown",
   "metadata": {},
   "source": [
    "- 학습 단계(loop)에서 최적화는 세단계로 이루어진다.\n",
    "1. `optimizer.zero_grad()`를 호출하여 모델 매개변수의 변화도를 재설정한다. 기본적으로 변화도는 더해지기(add up) 때문에, 중복 계산을 막기 위해 반복할 때마다 명시적으로 0으로 설정된다.\n",
    "2. `loss.backward()`를 호출하여 예측 손실(prediction loss)를 역전파 한다. Pytorch는 각 매개변수에 대한 손실의 변화도를 저장한다.\n",
    "3. 변화도를 계산한 뒤에는 `optimizer.step()`를 호출하여 역전파 단계에서 수집된 변화도로 매개변수를 조정한다."
   ]
  },
  {
   "attachments": {},
   "cell_type": "markdown",
   "metadata": {},
   "source": [
    "## 전체 구현\n",
    "- 최적화 코드를 반복하여 수행하는 `train_loop`와 테스트 데이터로 모델의 성능을 측정하는 `test_loop`를 정의하였다."
   ]
  },
  {
   "cell_type": "code",
   "execution_count": 8,
   "metadata": {},
   "outputs": [],
   "source": [
    "def train_loop(\n",
    "    datalodaer,\n",
    "    model,\n",
    "    loss_fn,\n",
    "    optimizer\n",
    "):\n",
    "    size = len(datalodaer.dataset)\n",
    "    for batch, (X,y) in enumerate(datalodaer):\n",
    "        # 예측과 손실 계산\n",
    "        pred = model(X)         # 입력에 대한 예측\n",
    "        loss = loss_fn(pred, y) # loss 구하기\n",
    "        \n",
    "        # 역전파\n",
    "        optimizer.zero_grad()   # 모델 매개변수의 변화도를 재설정. 반복마다 명시적 0초기화\n",
    "        loss.backward()         # 예측 손실을 역전파 시킨다. 각 매개변수에 대한 손실의 변화도를 저장\n",
    "        optimizer.step()        # 역전파 단계에서 수집된 변화도로 매개변수를 조정\n",
    "        \n",
    "        if batch % 100 == 0:\n",
    "            loss = loss.item()\n",
    "            current = (batch + 1 ) * len(X)\n",
    "            print(f\"loss: {loss:>7f}  [{current:>5d}/{size:>5d}]\")\n",
    "        \n",
    "def test_loop(\n",
    "    dataloader,\n",
    "    model,\n",
    "    loss_fn\n",
    "):\n",
    "    size = len(dataloader.dataset)\n",
    "    num_batches = len(dataloader)\n",
    "    test_loss = 0\n",
    "    correct = 0\n",
    "    \n",
    "    with torch.no_grad():\n",
    "        for X, y in dataloader:\n",
    "            pred = model(X)\n",
    "            test_loss += loss_fn(pred, y).item()\n",
    "            correct += (pred.argmax(1) == y).type(torch.float).sum().item()\n",
    "            \n",
    "    test_loss /= num_batches\n",
    "    correct /= size\n",
    "    print(f\"Test Error: \\n Accuracy: {(100*correct):>0.1f}%, Avg loss: {test_loss:>8f} \\n\")\n",
    "     "
   ]
  },
  {
   "attachments": {},
   "cell_type": "markdown",
   "metadata": {},
   "source": [
    "손실 함수와 옵티마이저를 초기화하고 `train_loop`와 `test_loop`에 전달한다.   \n",
    "모델의 성능 향상을 알아보기 위해 자유롭게 에폭수를 증가할 수 있다."
   ]
  },
  {
   "cell_type": "code",
   "execution_count": 9,
   "metadata": {},
   "outputs": [
    {
     "name": "stdout",
     "output_type": "stream",
     "text": [
      "Epoch 1\n",
      "------------------------\n",
      "loss: 2.306619  [   64/60000]\n",
      "loss: 2.290363  [ 6464/60000]\n",
      "loss: 2.268385  [12864/60000]\n",
      "loss: 2.267946  [19264/60000]\n",
      "loss: 2.249006  [25664/60000]\n",
      "loss: 2.217978  [32064/60000]\n",
      "loss: 2.223443  [38464/60000]\n",
      "loss: 2.192082  [44864/60000]\n",
      "loss: 2.198177  [51264/60000]\n",
      "loss: 2.164495  [57664/60000]\n",
      "Test Error: \n",
      " Accuracy: 47.1%, Avg loss: 2.154685 \n",
      "\n",
      "Epoch 2\n",
      "------------------------\n",
      "loss: 2.172257  [   64/60000]\n",
      "loss: 2.157548  [ 6464/60000]\n",
      "loss: 2.094066  [12864/60000]\n",
      "loss: 2.118564  [19264/60000]\n",
      "loss: 2.074581  [25664/60000]\n",
      "loss: 2.003121  [32064/60000]\n",
      "loss: 2.043066  [38464/60000]\n",
      "loss: 1.956440  [44864/60000]\n",
      "loss: 1.968955  [51264/60000]\n",
      "loss: 1.915780  [57664/60000]\n",
      "Test Error: \n",
      " Accuracy: 55.6%, Avg loss: 1.895031 \n",
      "\n",
      "Epoch 3\n",
      "------------------------\n",
      "loss: 1.931857  [   64/60000]\n",
      "loss: 1.898123  [ 6464/60000]\n",
      "loss: 1.773044  [12864/60000]\n",
      "loss: 1.833382  [19264/60000]\n",
      "loss: 1.729061  [25664/60000]\n",
      "loss: 1.666484  [32064/60000]\n",
      "loss: 1.708290  [38464/60000]\n",
      "loss: 1.592994  [44864/60000]\n",
      "loss: 1.621829  [51264/60000]\n",
      "loss: 1.543261  [57664/60000]\n",
      "Test Error: \n",
      " Accuracy: 60.6%, Avg loss: 1.537238 \n",
      "\n",
      "Epoch 4\n",
      "------------------------\n",
      "loss: 1.605047  [   64/60000]\n",
      "loss: 1.566775  [ 6464/60000]\n",
      "loss: 1.407499  [12864/60000]\n",
      "loss: 1.501504  [19264/60000]\n",
      "loss: 1.376197  [25664/60000]\n",
      "loss: 1.361706  [32064/60000]\n",
      "loss: 1.388088  [38464/60000]\n",
      "loss: 1.300049  [44864/60000]\n",
      "loss: 1.334210  [51264/60000]\n",
      "loss: 1.251643  [57664/60000]\n",
      "Test Error: \n",
      " Accuracy: 63.2%, Avg loss: 1.265805 \n",
      "\n",
      "Epoch 5\n",
      "------------------------\n",
      "loss: 1.345683  [   64/60000]\n",
      "loss: 1.323746  [ 6464/60000]\n",
      "loss: 1.151450  [12864/60000]\n",
      "loss: 1.272051  [19264/60000]\n",
      "loss: 1.140674  [25664/60000]\n",
      "loss: 1.159070  [32064/60000]\n",
      "loss: 1.185656  [38464/60000]\n",
      "loss: 1.115649  [44864/60000]\n",
      "loss: 1.152206  [51264/60000]\n",
      "loss: 1.080707  [57664/60000]\n",
      "Test Error: \n",
      " Accuracy: 64.6%, Avg loss: 1.094197 \n",
      "\n",
      "Epoch 6\n",
      "------------------------\n",
      "loss: 1.171113  [   64/60000]\n",
      "loss: 1.167394  [ 6464/60000]\n",
      "loss: 0.979526  [12864/60000]\n",
      "loss: 1.125267  [19264/60000]\n",
      "loss: 0.994859  [25664/60000]\n",
      "loss: 1.021579  [32064/60000]\n",
      "loss: 1.060814  [38464/60000]\n",
      "loss: 0.996832  [44864/60000]\n",
      "loss: 1.034668  [51264/60000]\n",
      "loss: 0.975080  [57664/60000]\n",
      "Test Error: \n",
      " Accuracy: 65.9%, Avg loss: 0.983318 \n",
      "\n",
      "Epoch 7\n",
      "------------------------\n",
      "loss: 1.049417  [   64/60000]\n",
      "loss: 1.066423  [ 6464/60000]\n",
      "loss: 0.861018  [12864/60000]\n",
      "loss: 1.027457  [19264/60000]\n",
      "loss: 0.904199  [25664/60000]\n",
      "loss: 0.924966  [32064/60000]\n",
      "loss: 0.979607  [38464/60000]\n",
      "loss: 0.919110  [44864/60000]\n",
      "loss: 0.954473  [51264/60000]\n",
      "loss: 0.905378  [57664/60000]\n",
      "Test Error: \n",
      " Accuracy: 67.5%, Avg loss: 0.908482 \n",
      "\n",
      "Epoch 8\n",
      "------------------------\n",
      "loss: 0.960167  [   64/60000]\n",
      "loss: 0.997438  [ 6464/60000]\n",
      "loss: 0.776487  [12864/60000]\n",
      "loss: 0.959225  [19264/60000]\n",
      "loss: 0.844707  [25664/60000]\n",
      "loss: 0.855377  [32064/60000]\n",
      "loss: 0.923032  [38464/60000]\n",
      "loss: 0.867080  [44864/60000]\n",
      "loss: 0.897449  [51264/60000]\n",
      "loss: 0.856425  [57664/60000]\n",
      "Test Error: \n",
      " Accuracy: 68.5%, Avg loss: 0.855445 \n",
      "\n",
      "Epoch 9\n",
      "------------------------\n",
      "loss: 0.892292  [   64/60000]\n",
      "loss: 0.946849  [ 6464/60000]\n",
      "loss: 0.714208  [12864/60000]\n",
      "loss: 0.909910  [19264/60000]\n",
      "loss: 0.803246  [25664/60000]\n",
      "loss: 0.804035  [32064/60000]\n",
      "loss: 0.880749  [38464/60000]\n",
      "loss: 0.830963  [44864/60000]\n",
      "loss: 0.855305  [51264/60000]\n",
      "loss: 0.819890  [57664/60000]\n",
      "Test Error: \n",
      " Accuracy: 69.7%, Avg loss: 0.815934 \n",
      "\n",
      "Epoch 10\n",
      "------------------------\n",
      "loss: 0.838676  [   64/60000]\n",
      "loss: 0.907142  [ 6464/60000]\n",
      "loss: 0.666537  [12864/60000]\n",
      "loss: 0.872636  [19264/60000]\n",
      "loss: 0.772379  [25664/60000]\n",
      "loss: 0.765418  [32064/60000]\n",
      "loss: 0.846936  [38464/60000]\n",
      "loss: 0.804460  [44864/60000]\n",
      "loss: 0.822887  [51264/60000]\n",
      "loss: 0.791199  [57664/60000]\n",
      "Test Error: \n",
      " Accuracy: 70.9%, Avg loss: 0.784935 \n",
      "\n",
      "Done.\n"
     ]
    }
   ],
   "source": [
    "loss_fn = nn.CrossEntropyLoss()\n",
    "optimizer = torch.optim.SGD(\n",
    "    model.parameters(),\n",
    "    lr = learning_rate\n",
    ")\n",
    "\n",
    "epochs = 10\n",
    "\n",
    "for epoch in range(epochs):\n",
    "    print(f\"Epoch {epoch + 1}\\n------------------------\")\n",
    "    train_loop(\n",
    "        datalodaer = train_dataloader,\n",
    "        model = model,\n",
    "        loss_fn = loss_fn,\n",
    "        optimizer = optimizer\n",
    "    )\n",
    "    test_loop(\n",
    "        dataloader = test_dataloader,\n",
    "        model = model,\n",
    "        loss_fn = loss_fn\n",
    "    )\n",
    "\n",
    "print(\"Done.\")"
   ]
  },
  {
   "attachments": {},
   "cell_type": "markdown",
   "metadata": {},
   "source": [
    "## Ref\n",
    "[역전파 미적분학 3b1b](https://www.youtube.com/watch?v=tIeHLnjs5U8)   \n",
    "[Loss functions](https://pytorch.org/docs/stable/nn.html#loss-functions)   \n",
    "[torch.optim](https://pytorch.org/docs/stable/optim.html)   \n"
   ]
  }
 ],
 "metadata": {
  "kernelspec": {
   "display_name": "k_public",
   "language": "python",
   "name": "python3"
  },
  "language_info": {
   "codemirror_mode": {
    "name": "ipython",
    "version": 3
   },
   "file_extension": ".py",
   "mimetype": "text/x-python",
   "name": "python",
   "nbconvert_exporter": "python",
   "pygments_lexer": "ipython3",
   "version": "3.10.0"
  },
  "orig_nbformat": 4
 },
 "nbformat": 4,
 "nbformat_minor": 2
}
